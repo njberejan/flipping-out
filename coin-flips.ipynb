{
 "cells": [
  {
   "cell_type": "code",
   "execution_count": 3,
   "metadata": {
    "collapsed": true
   },
   "outputs": [],
   "source": [
    "%matplotlib inline\n",
    "import matplotlib.pyplot as plt\n",
    "import math\n",
    "import random\n",
    "import statistics as st\n",
    "import numpy as np\n",
    "import matplotlib.pyplot as plt"
   ]
  },
  {
   "cell_type": "code",
   "execution_count": 4,
   "metadata": {
    "collapsed": false
   },
   "outputs": [],
   "source": [
    "def flips_a_coin():\n",
    "    return random.randint(0, 1)"
   ]
  },
  {
   "cell_type": "code",
   "execution_count": 5,
   "metadata": {
    "collapsed": false
   },
   "outputs": [],
   "source": [
    "import random\n",
    "def many_flips(n):      #heads is 1, tails is 0\n",
    "    heads_count = 0\n",
    "    tails_count = 0\n",
    "    total_count = 0\n",
    "    count_list = []\n",
    "    for i in range(2**n):\n",
    "        flip_result = flips_a_coin()\n",
    "        total_count += 1\n",
    "        if flip_result == 1:\n",
    "            heads_count += 1\n",
    "        else:\n",
    "            tails_count += 1\n",
    "        for x in range(n):\n",
    "            if total_count == (2**x):\n",
    "                count_list.append((heads_count, tails_count))\n",
    "    return count_list"
   ]
  },
  {
   "cell_type": "code",
   "execution_count": 6,
   "metadata": {
    "collapsed": false
   },
   "outputs": [],
   "source": [
    "def get_difference(n):\n",
    "    difference_list = []\n",
    "    for i in range(n):\n",
    "        difference_list.append(count_list[i][0]-count_list[i][1])\n",
    "    return difference_list"
   ]
  },
  {
   "cell_type": "code",
   "execution_count": 7,
   "metadata": {
    "collapsed": false
   },
   "outputs": [],
   "source": [
    "def get_ratio(n):\n",
    "    ratio_list = []\n",
    "    for i in range(n):\n",
    "        ratio_list.append(count_list[i][0]/(count_list[i][0]+count_list[i][1]))\n",
    "    return ratio_list"
   ]
  },
  {
   "cell_type": "code",
   "execution_count": 8,
   "metadata": {
    "collapsed": false
   },
   "outputs": [
    {
     "data": {
      "text/plain": [
       "[(0, 1),\n",
       " (1, 1),\n",
       " (1, 3),\n",
       " (3, 5),\n",
       " (7, 9),\n",
       " (18, 14),\n",
       " (30, 34),\n",
       " (62, 66),\n",
       " (121, 135),\n",
       " (262, 250),\n",
       " (530, 494),\n",
       " (1049, 999),\n",
       " (2088, 2008),\n",
       " (4141, 4051),\n",
       " (8227, 8157),\n",
       " (16482, 16286)]"
      ]
     },
     "execution_count": 8,
     "metadata": {},
     "output_type": "execute_result"
    }
   ],
   "source": [
    "many_flips(16)"
   ]
  },
  {
   "cell_type": "code",
   "execution_count": 9,
   "metadata": {
    "collapsed": false
   },
   "outputs": [],
   "source": [
    "count_list = many_flips(16)"
   ]
  },
  {
   "cell_type": "code",
   "execution_count": 10,
   "metadata": {
    "collapsed": false
   },
   "outputs": [],
   "source": [
    "difference_list = get_difference(16)"
   ]
  },
  {
   "cell_type": "code",
   "execution_count": 11,
   "metadata": {
    "collapsed": true
   },
   "outputs": [],
   "source": [
    "ratio_list = get_ratio(16)"
   ]
  },
  {
   "cell_type": "code",
   "execution_count": 12,
   "metadata": {
    "collapsed": false
   },
   "outputs": [
    {
     "data": {
      "text/plain": [
       "16"
      ]
     },
     "execution_count": 12,
     "metadata": {},
     "output_type": "execute_result"
    }
   ],
   "source": [
    "len(count_list)"
   ]
  },
  {
   "cell_type": "code",
   "execution_count": 13,
   "metadata": {
    "collapsed": false
   },
   "outputs": [
    {
     "data": {
      "image/png": "[encoded data removed]",
      "text/plain": [
       "<matplotlib.figure.Figure at 0x110fe9470>"
      ]
     },
     "metadata": {},
     "output_type": "display_data"
    }
   ],
   "source": [
    "x1 = list(range(len(count_list)))\n",
    "y1 = difference_list\n",
    "\n",
    "plt.plot(y1)\n",
    "plt.xticks(range(len(count_list)), x1)\n",
    "plt.xlabel('Flip Sequence 2^n')\n",
    "plt.ylabel('Line Graph Difference Heads minus Tails')\n",
    "plt.title('Difference between Heads and Tails over Exponential Sequences')\n",
    "plt.show()"
   ]
  },
  {
   "cell_type": "code",
   "execution_count": 14,
   "metadata": {
    "collapsed": false
   },
   "outputs": [
    {
     "data": {
      "image/png": "[encoded data removed]",
      "text/plain": [
       "<matplotlib.figure.Figure at 0x11107aba8>"
      ]
     },
     "metadata": {},
     "output_type": "display_data"
    }
   ],
   "source": [
    "x1 = list(range(1, len(count_list)))\n",
    "y1 = ratio_list\n",
    "\n",
    "plt.plot(y1)\n",
    "plt.xticks(range(len(count_list)), x1)\n",
    "plt.xlabel('Flip Sequence 2^n')\n",
    "plt.ylabel('Ratio of Heads to Tails')\n",
    "plt.title('Line Graph Ratio of Heads to Tails over Exponential Sequences')\n",
    "plt.show()"
   ]
  },
  {
   "cell_type": "code",
   "execution_count": 15,
   "metadata": {
    "collapsed": false
   },
   "outputs": [
    {
     "data": {
      "image/png": "[encoded data removed]",
      "text/plain": [
       "<matplotlib.figure.Figure at 0x1111b3780>"
      ]
     },
     "metadata": {},
     "output_type": "display_data"
    }
   ],
   "source": [
    "x1 = list(range(len(count_list)))\n",
    "y1 = difference_list\n",
    "plt.scatter(x1, y1)\n",
    "plt.xticks(x1)\n",
    "plt.xlabel(\"Difference Heads minus Tails (logarithmic)\")\n",
    "plt.ylabel(\"Flip Sequence 2^n\")\n",
    "plt.title(\"Scatter Graph Difference Heads minus Tails'\")\n",
    "plt.xscale('log')\n",
    "plt.show()"
   ]
  },
  {
   "cell_type": "code",
   "execution_count": 16,
   "metadata": {
    "collapsed": false
   },
   "outputs": [
    {
     "data": {
      "image/png": "[encoded data removed]",
      "text/plain": [
       "<matplotlib.figure.Figure at 0x11135fda0>"
      ]
     },
     "metadata": {},
     "output_type": "display_data"
    }
   ],
   "source": [
    "x1 = list(range(len(count_list)))\n",
    "y1 = ratio_list\n",
    "plt.scatter(x1, y1)\n",
    "plt.xticks(x1)\n",
    "plt.xlabel(\"Ratio Heads to Tails (logarithmic)\")\n",
    "plt.ylabel(\"Flip Sequence 2^n\")\n",
    "plt.title(\"Scatter Graph Ratio Heads to Tails'\")\n",
    "plt.xscale('log')\n",
    "plt.show()"
   ]
  },
  {
   "cell_type": "code",
   "execution_count": 27,
   "metadata": {
    "collapsed": false
   },
   "outputs": [],
   "source": [
    "def multiple_simulations(x, n):\n",
    "    list_of_simulations = []\n",
    "    for i in range(x):\n",
    "        list_of_simulations.append(many_flips(n))\n",
    "    return list_of_simulations"
   ]
  },
  {
   "cell_type": "code",
   "execution_count": 28,
   "metadata": {
    "collapsed": false
   },
   "outputs": [],
   "source": [
    "list_of_simulations = multiple_simulations(20, 16)"
   ]
  },
  {
   "cell_type": "code",
   "execution_count": 29,
   "metadata": {
    "collapsed": false,
    "scrolled": false
   },
   "outputs": [
    {
     "name": "stdout",
     "output_type": "stream",
     "text": [
      "[[(0, 1), (1, 1), (2, 2), (6, 2), (9, 7), (16, 16), (27, 37), (59, 69), (126, 130), (263, 249), (521, 503), (1064, 984), (2114, 1982), (4204, 3988), (8371, 8013), (16536, 16232)], [(1, 0), (1, 1), (3, 1), (5, 3), (9, 7), (18, 14), (25, 39), (66, 62), (128, 128), (256, 256), (520, 504), (1037, 1011), (2046, 2050), (4063, 4129), (8079, 8305), (16229, 16539)], [(0, 1), (1, 1), (3, 1), (7, 1), (11, 5), (20, 12), (33, 31), (69, 59), (138, 118), (262, 250), (501, 523), (995, 1053), (1999, 2097), (4042, 4150), (8091, 8293), (16324, 16444)], [(1, 0), (1, 1), (1, 3), (3, 5), (7, 9), (18, 14), (31, 33), (62, 66), (119, 137), (251, 261), (525, 499), (1036, 1012), (2021, 2075), (4068, 4124), (8204, 8180), (16343, 16425)], [(0, 1), (0, 2), (1, 3), (3, 5), (8, 8), (19, 13), (39, 25), (73, 55), (133, 123), (253, 259), (508, 516), (1014, 1034), (2027, 2069), (4091, 4101), (8166, 8218), (16300, 16468)], [(0, 1), (0, 2), (0, 4), (3, 5), (7, 9), (14, 18), (30, 34), (61, 67), (130, 126), (253, 259), (519, 505), (1010, 1038), (2033, 2063), (4066, 4126), (8087, 8297), (16225, 16543)], [(1, 0), (1, 1), (2, 2), (4, 4), (7, 9), (15, 17), (36, 28), (69, 59), (131, 125), (240, 272), (487, 537), (980, 1068), (2053, 2043), (4097, 4095), (8145, 8239), (16341, 16427)], [(1, 0), (1, 1), (2, 2), (3, 5), (7, 9), (13, 19), (27, 37), (65, 63), (137, 119), (272, 240), (533, 491), (1036, 1012), (2059, 2037), (4102, 4090), (8191, 8193), (16332, 16436)], [(1, 0), (2, 0), (2, 2), (5, 3), (9, 7), (20, 12), (37, 27), (64, 64), (118, 138), (259, 253), (528, 496), (1044, 1004), (2062, 2034), (4105, 4087), (8206, 8178), (16524, 16244)], [(0, 1), (1, 1), (2, 2), (4, 4), (8, 8), (16, 16), (29, 35), (62, 66), (122, 134), (262, 250), (516, 508), (1029, 1019), (2068, 2028), (4126, 4066), (8141, 8243), (16295, 16473)], [(0, 1), (0, 2), (2, 2), (5, 3), (12, 4), (20, 12), (35, 29), (61, 67), (127, 129), (261, 251), (515, 509), (1035, 1013), (2086, 2010), (4122, 4070), (8193, 8191), (16458, 16310)], [(1, 0), (2, 0), (2, 2), (4, 4), (10, 6), (19, 13), (33, 31), (75, 53), (145, 111), (256, 256), (511, 513), (1025, 1023), (2067, 2029), (4165, 4027), (8213, 8171), (16359, 16409)], [(0, 1), (0, 2), (1, 3), (2, 6), (5, 11), (11, 21), (27, 37), (58, 70), (116, 140), (235, 277), (504, 520), (1027, 1021), (2033, 2063), (4132, 4060), (8239, 8145), (16474, 16294)], [(0, 1), (0, 2), (1, 3), (3, 5), (7, 9), (12, 20), (27, 37), (56, 72), (119, 137), (258, 254), (508, 516), (1034, 1014), (2044, 2052), (4120, 4072), (8155, 8229), (16393, 16375)], [(1, 0), (1, 1), (1, 3), (2, 6), (5, 11), (10, 22), (28, 36), (57, 71), (126, 130), (251, 261), (500, 524), (1016, 1032), (2047, 2049), (4130, 4062), (8267, 8117), (16518, 16250)], [(1, 0), (2, 0), (2, 2), (4, 4), (8, 8), (17, 15), (40, 24), (72, 56), (135, 121), (253, 259), (508, 516), (1027, 1021), (2062, 2034), (4137, 4055), (8216, 8168), (16406, 16362)], [(0, 1), (1, 1), (3, 1), (6, 2), (10, 6), (17, 15), (33, 31), (63, 65), (134, 122), (272, 240), (534, 490), (1069, 979), (2109, 1987), (4162, 4030), (8234, 8150), (16509, 16259)], [(0, 1), (1, 1), (2, 2), (4, 4), (7, 9), (16, 16), (33, 31), (64, 64), (127, 129), (257, 255), (521, 503), (1026, 1022), (2102, 1994), (4159, 4033), (8327, 8057), (16440, 16328)], [(0, 1), (0, 2), (1, 3), (1, 7), (5, 11), (13, 19), (30, 34), (65, 63), (133, 123), (255, 257), (500, 524), (1043, 1005), (2066, 2030), (4054, 4138), (8143, 8241), (16379, 16389)], [(0, 1), (1, 1), (2, 2), (4, 4), (6, 10), (15, 17), (34, 30), (68, 60), (138, 118), (282, 230), (514, 510), (1046, 1002), (2032, 2064), (4089, 4103), (8220, 8164), (16430, 16338)]]\n"
     ]
    }
   ],
   "source": [
    "print(list_of_simulations)"
   ]
  },
  {
   "cell_type": "code",
   "execution_count": 88,
   "metadata": {
    "collapsed": false
   },
   "outputs": [],
   "source": [
    "def get_many_differences(list_of_simulations):\n",
    "    many_differences_list = []\n",
    "    intermediate_list = []\n",
    "    for each_list in list_of_simulations:\n",
    "        for each_tuple in each_list:\n",
    "            tuple1, tuple2 = each_tuple\n",
    "            intermediate_list.append(tuple1 - tuple2)\n",
    "        many_differences_list.append(intermediate_list)\n",
    "    return difference_list"
   ]
  },
  {
   "cell_type": "code",
   "execution_count": 89,
   "metadata": {
    "collapsed": false
   },
   "outputs": [
    {
     "data": {
      "text/plain": [
       "[1, 2, 0, 4, 4, 12, 12, -2, -6, -8, 8, 26, 68, 144, 370, 404]"
      ]
     },
     "execution_count": 89,
     "metadata": {},
     "output_type": "execute_result"
    }
   ],
   "source": [
    "get_many_differences(list_of_simulations)"
   ]
  },
  {
   "cell_type": "code",
   "execution_count": null,
   "metadata": {
    "collapsed": true
   },
   "outputs": [],
   "source": []
  }
 ],
 "metadata": {
  "kernelspec": {
   "display_name": "Python 3",
   "language": "python",
   "name": "python3"
  },
  "language_info": {
   "codemirror_mode": {
    "name": "ipython",
    "version": 3
   },
   "file_extension": ".py",
   "mimetype": "text/x-python",
   "name": "python",
   "nbconvert_exporter": "python",
   "pygments_lexer": "ipython3",
   "version": "3.5.1"
  }
 },
 "nbformat": 4,
 "nbformat_minor": 0
}
