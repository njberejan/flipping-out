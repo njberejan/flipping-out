{
 "cells": [
  {
   "cell_type": "code",
   "execution_count": 5,
   "metadata": {
    "collapsed": true
   },
   "outputs": [],
   "source": [
    "%matplotlib inline\n",
    "import matplotlib.pyplot as plt\n",
    "import math\n",
    "import random\n",
    "import statistics as st\n",
    "import numpy as np\n",
    "import matplotlib.pyplot as plt"
   ]
  },
  {
   "cell_type": "markdown",
   "metadata": {},
   "source": [
    "### Having imported the above, we are ready to build the functions that will simulate flipping a coin."
   ]
  },
  {
   "cell_type": "markdown",
   "metadata": {},
   "source": [
    "This function returns a random number, 0 or 1, which we equate to Heads or Tails for the purposes of this program."
   ]
  },
  {
   "cell_type": "code",
   "execution_count": 6,
   "metadata": {
    "collapsed": false
   },
   "outputs": [],
   "source": [
    "def flips_a_coin():\n",
    "    return random.randint(0, 1)"
   ]
  },
  {
   "cell_type": "markdown",
   "metadata": {},
   "source": [
    "The function below returns the results of *2<sup>n</sup>* number of coin flips as a list of tuples, with the number of heads as the first indexed value and the number of tails the second."
   ]
  },
  {
   "cell_type": "code",
   "execution_count": 7,
   "metadata": {
    "collapsed": false
   },
   "outputs": [],
   "source": [
    "import random\n",
    "def many_flips(n):      #heads is 1, tails is 0\n",
    "    heads_count = 0\n",
    "    tails_count = 0\n",
    "    total_count = 0\n",
    "    count_list = []\n",
    "    for i in range(2**n):\n",
    "        flip_result = flips_a_coin()\n",
    "        total_count += 1\n",
    "        if flip_result == 1:\n",
    "            heads_count += 1\n",
    "        else:\n",
    "            tails_count += 1\n",
    "        for x in range(n):\n",
    "            if total_count == (2**x):\n",
    "                count_list.append((heads_count, tails_count))\n",
    "    return count_list"
   ]
  },
  {
   "cell_type": "markdown",
   "metadata": {},
   "source": [
    "The function below determines the difference between the tuple values from the above function, based on the list index and then tuple index."
   ]
  },
  {
   "cell_type": "code",
   "execution_count": 8,
   "metadata": {
    "collapsed": false
   },
   "outputs": [],
   "source": [
    "def get_difference(n):\n",
    "    difference_list = []\n",
    "    for i in range(n):\n",
    "        difference_list.append(count_list[i][0]-count_list[i][1])\n",
    "    return difference_list"
   ]
  },
  {
   "cell_type": "markdown",
   "metadata": {},
   "source": [
    "Similar to above, this function determines the ratio of heads to tails for each trial of tosses. Both functions are needed to plot the below graphs."
   ]
  },
  {
   "cell_type": "code",
   "execution_count": 9,
   "metadata": {
    "collapsed": false
   },
   "outputs": [],
   "source": [
    "def get_ratio(n):\n",
    "    ratio_list = []\n",
    "    for i in range(n):\n",
    "        ratio_list.append(count_list[i][0]/(count_list[i][0]+count_list[i][1]))\n",
    "    return ratio_list"
   ]
  },
  {
   "cell_type": "markdown",
   "metadata": {},
   "source": [
    "Here we test the many_flips function:"
   ]
  },
  {
   "cell_type": "code",
   "execution_count": 10,
   "metadata": {
    "collapsed": false
   },
   "outputs": [
    {
     "data": {
      "text/plain": [
       "[(1, 0),\n",
       " (1, 1),\n",
       " (3, 1),\n",
       " (6, 2),\n",
       " (10, 6),\n",
       " (19, 13),\n",
       " (37, 27),\n",
       " (69, 59),\n",
       " (122, 134),\n",
       " (234, 278),\n",
       " (495, 529),\n",
       " (1020, 1028),\n",
       " (2020, 2076),\n",
       " (4073, 4119),\n",
       " (8171, 8213),\n",
       " (16323, 16445)]"
      ]
     },
     "execution_count": 10,
     "metadata": {},
     "output_type": "execute_result"
    }
   ],
   "source": [
    "many_flips(16)"
   ]
  },
  {
   "cell_type": "markdown",
   "metadata": {},
   "source": [
    "The output is assigned to the variable count_list:"
   ]
  },
  {
   "cell_type": "code",
   "execution_count": 11,
   "metadata": {
    "collapsed": false
   },
   "outputs": [],
   "source": [
    "count_list = many_flips(16)"
   ]
  },
  {
   "cell_type": "markdown",
   "metadata": {},
   "source": [
    "We run the difference function and assign the output to the difference_list variable:"
   ]
  },
  {
   "cell_type": "code",
   "execution_count": 12,
   "metadata": {
    "collapsed": false
   },
   "outputs": [],
   "source": [
    "difference_list = get_difference(16)"
   ]
  },
  {
   "cell_type": "markdown",
   "metadata": {},
   "source": [
    "...and do the same with the ratio function:"
   ]
  },
  {
   "cell_type": "code",
   "execution_count": 13,
   "metadata": {
    "collapsed": true
   },
   "outputs": [],
   "source": [
    "ratio_list = get_ratio(16)"
   ]
  },
  {
   "cell_type": "markdown",
   "metadata": {},
   "source": [
    "Which allows us to plot the difference of the tuple values over *n* number of trials:"
   ]
  },
  {
   "cell_type": "code",
   "execution_count": 15,
   "metadata": {
    "collapsed": false
   },
   "outputs": [
    {
     "data": {
      "image/png": "[encoded data removed]",
      "text/plain": [
       "<matplotlib.figure.Figure at 0x10da57518>"
      ]
     },
     "metadata": {},
     "output_type": "display_data"
    }
   ],
   "source": [
    "x1 = list(range(len(count_list)))\n",
    "y1 = difference_list\n",
    "\n",
    "plt.plot(y1)\n",
    "plt.xticks(range(len(count_list)), x1)\n",
    "plt.xlabel('Flip Sequence 2^n')\n",
    "plt.ylabel('Line Graph Difference Heads minus Tails')\n",
    "plt.title('Difference between Heads and Tails over Exponential Sequences')\n",
    "plt.show()"
   ]
  },
  {
   "cell_type": "markdown",
   "metadata": {},
   "source": [
    "...as well as the ratio for the same number of trials:"
   ]
  },
  {
   "cell_type": "code",
   "execution_count": 16,
   "metadata": {
    "collapsed": false
   },
   "outputs": [
    {
     "data": {
      "image/png": "[encoded data removed]",
      "text/plain": [
       "<matplotlib.figure.Figure at 0x10dadb6d8>"
      ]
     },
     "metadata": {},
     "output_type": "display_data"
    }
   ],
   "source": [
    "x1 = list(range(1, len(count_list)))\n",
    "y1 = ratio_list\n",
    "\n",
    "plt.plot(y1)\n",
    "plt.xticks(range(len(count_list)), x1)\n",
    "plt.xlabel('Flip Sequence 2^n')\n",
    "plt.ylabel('Ratio of Heads to Tails')\n",
    "plt.title('Line Graph Ratio of Heads to Tails over Exponential Sequences')\n",
    "plt.show()"
   ]
  },
  {
   "cell_type": "markdown",
   "metadata": {},
   "source": [
    "As requested, the same data as scatterplots with a logarithmic scale along the x-axis (although it doesn't quite look right):"
   ]
  },
  {
   "cell_type": "code",
   "execution_count": 17,
   "metadata": {
    "collapsed": false
   },
   "outputs": [
    {
     "data": {
      "image/png": "[encoded data removed]",
      "text/plain": [
       "<matplotlib.figure.Figure at 0x10dc38b70>"
      ]
     },
     "metadata": {},
     "output_type": "display_data"
    }
   ],
   "source": [
    "x1 = list(range(len(count_list)))\n",
    "y1 = difference_list\n",
    "plt.scatter(x1, y1)\n",
    "plt.xticks(x1)\n",
    "plt.xlabel(\"Difference Heads minus Tails (logarithmic)\")\n",
    "plt.ylabel(\"Flip Sequence 2^n\")\n",
    "plt.title(\"Scatter Graph Difference Heads minus Tails'\")\n",
    "plt.xscale('log')\n",
    "plt.show()"
   ]
  },
  {
   "cell_type": "code",
   "execution_count": 18,
   "metadata": {
    "collapsed": false
   },
   "outputs": [
    {
     "data": {
      "image/png": "[encoded data removed]",
      "text/plain": [
       "<matplotlib.figure.Figure at 0x10dd48160>"
      ]
     },
     "metadata": {},
     "output_type": "display_data"
    }
   ],
   "source": [
    "x1 = list(range(len(count_list)))\n",
    "y1 = ratio_list\n",
    "plt.scatter(x1, y1)\n",
    "plt.xticks(x1)\n",
    "plt.xlabel(\"Ratio Heads to Tails (logarithmic)\")\n",
    "plt.ylabel(\"Flip Sequence 2^n\")\n",
    "plt.title(\"Scatter Graph Ratio Heads to Tails'\")\n",
    "plt.xscale('log')\n",
    "plt.show()"
   ]
  },
  {
   "cell_type": "markdown",
   "metadata": {},
   "source": [
    "## Here's where things get sticky..."
   ]
  },
  {
   "cell_type": "markdown",
   "metadata": {},
   "source": [
    "This next function theoretically returns multiple simulations of *x* number, each simulation a number of trials exponentially growing from 2<sup>0</sup> to 2<sup>n</sup>."
   ]
  },
  {
   "cell_type": "code",
   "execution_count": 19,
   "metadata": {
    "collapsed": false
   },
   "outputs": [],
   "source": [
    "def multiple_simulations(x, n):\n",
    "    list_of_simulations = []\n",
    "    for i in range(x):\n",
    "        list_of_simulations.append(many_flips(n))\n",
    "    return list_of_simulations"
   ]
  },
  {
   "cell_type": "markdown",
   "metadata": {},
   "source": [
    "We run the function:"
   ]
  },
  {
   "cell_type": "code",
   "execution_count": 20,
   "metadata": {
    "collapsed": false
   },
   "outputs": [],
   "source": [
    "list_of_simulations = multiple_simulations(20, 16)"
   ]
  },
  {
   "cell_type": "markdown",
   "metadata": {},
   "source": [
    "And print the results, a list of lists of tuples. Each nested list is one simulation as described above."
   ]
  },
  {
   "cell_type": "code",
   "execution_count": 21,
   "metadata": {
    "collapsed": false,
    "scrolled": false
   },
   "outputs": [
    {
     "name": "stdout",
     "output_type": "stream",
     "text": [
      "[[(1, 0), (2, 0), (3, 1), (6, 2), (11, 5), (19, 13), (36, 28), (64, 64), (128, 128), (256, 256), (501, 523), (1029, 1019), (2073, 2023), (4099, 4093), (8158, 8226), (16329, 16439)], [(1, 0), (1, 1), (2, 2), (5, 3), (11, 5), (19, 13), (39, 25), (77, 51), (148, 108), (280, 232), (550, 474), (1095, 953), (2130, 1966), (4160, 4032), (8206, 8178), (16440, 16328)], [(1, 0), (2, 0), (2, 2), (5, 3), (9, 7), (18, 14), (33, 31), (63, 65), (128, 128), (269, 243), (516, 508), (995, 1053), (2024, 2072), (4112, 4080), (8163, 8221), (16295, 16473)], [(0, 1), (1, 1), (3, 1), (5, 3), (8, 8), (17, 15), (34, 30), (62, 66), (117, 139), (244, 268), (500, 524), (1020, 1028), (2055, 2041), (4061, 4131), (8120, 8264), (16378, 16390)], [(1, 0), (1, 1), (1, 3), (3, 5), (8, 8), (20, 12), (32, 32), (60, 68), (133, 123), (255, 257), (507, 517), (1056, 992), (2093, 2003), (4164, 4028), (8240, 8144), (16432, 16336)], [(1, 0), (1, 1), (3, 1), (7, 1), (10, 6), (16, 16), (32, 32), (65, 63), (122, 134), (255, 257), (526, 498), (1035, 1013), (2047, 2049), (4117, 4075), (8212, 8172), (16366, 16402)], [(1, 0), (1, 1), (3, 1), (6, 2), (11, 5), (20, 12), (35, 29), (68, 60), (127, 129), (247, 265), (498, 526), (1020, 1028), (2018, 2078), (4043, 4149), (8136, 8248), (16342, 16426)], [(1, 0), (1, 1), (3, 1), (4, 4), (9, 7), (18, 14), (33, 31), (62, 66), (121, 135), (237, 275), (494, 530), (1014, 1034), (2049, 2047), (4081, 4111), (8234, 8150), (16337, 16431)], [(0, 1), (1, 1), (3, 1), (4, 4), (7, 9), (16, 16), (33, 31), (64, 64), (128, 128), (276, 236), (529, 495), (1023, 1025), (2050, 2046), (4126, 4066), (8290, 8094), (16460, 16308)], [(0, 1), (1, 1), (3, 1), (4, 4), (9, 7), (16, 16), (32, 32), (64, 64), (129, 127), (259, 253), (528, 496), (1026, 1022), (2050, 2046), (4111, 4081), (8209, 8175), (16394, 16374)], [(0, 1), (0, 2), (0, 4), (2, 6), (5, 11), (12, 20), (27, 37), (57, 71), (121, 135), (250, 262), (514, 510), (1013, 1035), (2012, 2084), (4005, 4187), (8083, 8301), (16178, 16590)], [(0, 1), (1, 1), (2, 2), (3, 5), (7, 9), (14, 18), (31, 33), (64, 64), (131, 125), (264, 248), (506, 518), (1018, 1030), (2046, 2050), (4121, 4071), (8222, 8162), (16572, 16196)], [(0, 1), (1, 1), (2, 2), (4, 4), (8, 8), (18, 14), (38, 26), (72, 56), (127, 129), (249, 263), (499, 525), (1006, 1042), (1999, 2097), (4018, 4174), (8047, 8337), (16286, 16482)], [(1, 0), (2, 0), (2, 2), (4, 4), (12, 4), (21, 11), (37, 27), (74, 54), (140, 116), (249, 263), (492, 532), (1002, 1046), (2035, 2061), (4087, 4105), (8157, 8227), (16408, 16360)], [(1, 0), (2, 0), (3, 1), (5, 3), (8, 8), (15, 17), (28, 36), (59, 69), (123, 133), (254, 258), (529, 495), (1044, 1004), (2071, 2025), (4097, 4095), (8119, 8265), (16360, 16408)], [(0, 1), (0, 2), (2, 2), (5, 3), (9, 7), (17, 15), (33, 31), (62, 66), (122, 134), (245, 267), (506, 518), (983, 1065), (2019, 2077), (4096, 4096), (8260, 8124), (16465, 16303)], [(1, 0), (1, 1), (1, 3), (2, 6), (4, 12), (13, 19), (30, 34), (64, 64), (129, 127), (249, 263), (503, 521), (1043, 1005), (2077, 2019), (4057, 4135), (8243, 8141), (16393, 16375)], [(0, 1), (0, 2), (1, 3), (2, 6), (5, 11), (11, 21), (24, 40), (56, 72), (113, 143), (247, 265), (501, 523), (995, 1053), (2003, 2093), (4037, 4155), (8121, 8263), (16305, 16463)], [(1, 0), (1, 1), (2, 2), (6, 2), (11, 5), (19, 13), (37, 27), (67, 61), (119, 137), (230, 282), (490, 534), (1000, 1048), (2034, 2062), (4059, 4133), (8180, 8204), (16388, 16380)], [(0, 1), (1, 1), (2, 2), (4, 4), (8, 8), (14, 18), (30, 34), (63, 65), (131, 125), (261, 251), (502, 522), (995, 1053), (2001, 2095), (4039, 4153), (8108, 8276), (16356, 16412)]]\n"
     ]
    }
   ],
   "source": [
    "print(list_of_simulations)"
   ]
  },
  {
   "cell_type": "markdown",
   "metadata": {},
   "source": [
    "The next function returns a list of all of the above tuples averaged by nested list, and a list comprised of every list of the averaged tuples. The resulting output is extremely long so I have omitted it for readability."
   ]
  },
  {
   "cell_type": "code",
   "execution_count": 31,
   "metadata": {
    "collapsed": false
   },
   "outputs": [],
   "source": [
    "def get_many_differences(list_of_simulations):\n",
    "    many_differences_list = []\n",
    "    intermediate_list = []\n",
    "    for each_list in list_of_simulations:\n",
    "        for each_tuple in each_list:\n",
    "            tuple1, tuple2 = each_tuple\n",
    "            intermediate_list.append((tuple1 + tuple2)/len(each_list))\n",
    "            many_differences_list.append(intermediate_list)\n",
    "    return difference_list, many_differences_list"
   ]
  },
  {
   "cell_type": "markdown",
   "metadata": {},
   "source": [
    "I can call the list and it executes without issue."
   ]
  },
  {
   "cell_type": "code",
   "execution_count": 35,
   "metadata": {
    "collapsed": false
   },
   "outputs": [],
   "source": [
    "difference_list, many_differences_list = get_many_differences(list_of_simulations)"
   ]
  },
  {
   "cell_type": "markdown",
   "metadata": {},
   "source": [
    "However, I don't appear to be able to graph the scatterplot with the data provided."
   ]
  },
  {
   "cell_type": "code",
   "execution_count": 42,
   "metadata": {
    "collapsed": false,
    "scrolled": false
   },
   "outputs": [
    {
     "ename": "ValueError",
     "evalue": "x and y must be the same size",
     "output_type": "error",
     "traceback": [
      "\u001b[0;31m---------------------------------------------------------------------------\u001b[0m",
      "\u001b[0;31mValueError\u001b[0m                                Traceback (most recent call last)",
      "\u001b[0;32m<ipython-input-42-b9ea1b59e68d>\u001b[0m in \u001b[0;36m<module>\u001b[0;34m()\u001b[0m\n\u001b[1;32m      1\u001b[0m \u001b[0mx1\u001b[0m \u001b[0;34m=\u001b[0m \u001b[0;34m[\u001b[0m\u001b[0mrange\u001b[0m\u001b[0;34m(\u001b[0m\u001b[0mlen\u001b[0m\u001b[0;34m(\u001b[0m\u001b[0mmany_differences_list\u001b[0m\u001b[0;34m)\u001b[0m\u001b[0;34m)\u001b[0m\u001b[0;34m]\u001b[0m\u001b[0;34m\u001b[0m\u001b[0m\n\u001b[1;32m      2\u001b[0m \u001b[0my1\u001b[0m \u001b[0;34m=\u001b[0m \u001b[0mmany_differences_list\u001b[0m\u001b[0;34m\u001b[0m\u001b[0m\n\u001b[0;32m----> 3\u001b[0;31m \u001b[0mplt\u001b[0m\u001b[0;34m.\u001b[0m\u001b[0mscatter\u001b[0m\u001b[0;34m(\u001b[0m\u001b[0mrange\u001b[0m\u001b[0;34m(\u001b[0m\u001b[0mlen\u001b[0m\u001b[0;34m(\u001b[0m\u001b[0mx1\u001b[0m\u001b[0;34m)\u001b[0m\u001b[0;34m)\u001b[0m\u001b[0;34m,\u001b[0m \u001b[0my1\u001b[0m\u001b[0;34m)\u001b[0m\u001b[0;34m\u001b[0m\u001b[0m\n\u001b[0m\u001b[1;32m      4\u001b[0m \u001b[0mplt\u001b[0m\u001b[0;34m.\u001b[0m\u001b[0mxticks\u001b[0m\u001b[0;34m(\u001b[0m\u001b[0mx1\u001b[0m\u001b[0;34m)\u001b[0m\u001b[0;34m\u001b[0m\u001b[0m\n\u001b[1;32m      5\u001b[0m \u001b[0mplt\u001b[0m\u001b[0;34m.\u001b[0m\u001b[0mxlabel\u001b[0m\u001b[0;34m(\u001b[0m\u001b[0;34m\"Difference Heads minus Tails (logarithmic)\"\u001b[0m\u001b[0;34m)\u001b[0m\u001b[0;34m\u001b[0m\u001b[0m\n",
      "\u001b[0;32m/usr/local/lib/python3.5/site-packages/matplotlib/pyplot.py\u001b[0m in \u001b[0;36mscatter\u001b[0;34m(x, y, s, c, marker, cmap, norm, vmin, vmax, alpha, linewidths, verts, edgecolors, hold, data, **kwargs)\u001b[0m\n\u001b[1;32m   3249\u001b[0m                          \u001b[0mvmin\u001b[0m\u001b[0;34m=\u001b[0m\u001b[0mvmin\u001b[0m\u001b[0;34m,\u001b[0m \u001b[0mvmax\u001b[0m\u001b[0;34m=\u001b[0m\u001b[0mvmax\u001b[0m\u001b[0;34m,\u001b[0m \u001b[0malpha\u001b[0m\u001b[0;34m=\u001b[0m\u001b[0malpha\u001b[0m\u001b[0;34m,\u001b[0m\u001b[0;34m\u001b[0m\u001b[0m\n\u001b[1;32m   3250\u001b[0m                          \u001b[0mlinewidths\u001b[0m\u001b[0;34m=\u001b[0m\u001b[0mlinewidths\u001b[0m\u001b[0;34m,\u001b[0m \u001b[0mverts\u001b[0m\u001b[0;34m=\u001b[0m\u001b[0mverts\u001b[0m\u001b[0;34m,\u001b[0m\u001b[0;34m\u001b[0m\u001b[0m\n\u001b[0;32m-> 3251\u001b[0;31m                          edgecolors=edgecolors, data=data, **kwargs)\n\u001b[0m\u001b[1;32m   3252\u001b[0m     \u001b[0;32mfinally\u001b[0m\u001b[0;34m:\u001b[0m\u001b[0;34m\u001b[0m\u001b[0m\n\u001b[1;32m   3253\u001b[0m         \u001b[0max\u001b[0m\u001b[0;34m.\u001b[0m\u001b[0mhold\u001b[0m\u001b[0;34m(\u001b[0m\u001b[0mwashold\u001b[0m\u001b[0;34m)\u001b[0m\u001b[0;34m\u001b[0m\u001b[0m\n",
      "\u001b[0;32m/usr/local/lib/python3.5/site-packages/matplotlib/__init__.py\u001b[0m in \u001b[0;36minner\u001b[0;34m(ax, *args, **kwargs)\u001b[0m\n\u001b[1;32m   1810\u001b[0m                     warnings.warn(msg % (label_namer, func.__name__),\n\u001b[1;32m   1811\u001b[0m                                   RuntimeWarning, stacklevel=2)\n\u001b[0;32m-> 1812\u001b[0;31m             \u001b[0;32mreturn\u001b[0m \u001b[0mfunc\u001b[0m\u001b[0;34m(\u001b[0m\u001b[0max\u001b[0m\u001b[0;34m,\u001b[0m \u001b[0;34m*\u001b[0m\u001b[0margs\u001b[0m\u001b[0;34m,\u001b[0m \u001b[0;34m**\u001b[0m\u001b[0mkwargs\u001b[0m\u001b[0;34m)\u001b[0m\u001b[0;34m\u001b[0m\u001b[0m\n\u001b[0m\u001b[1;32m   1813\u001b[0m         \u001b[0mpre_doc\u001b[0m \u001b[0;34m=\u001b[0m \u001b[0minner\u001b[0m\u001b[0;34m.\u001b[0m\u001b[0m__doc__\u001b[0m\u001b[0;34m\u001b[0m\u001b[0m\n\u001b[1;32m   1814\u001b[0m         \u001b[0;32mif\u001b[0m \u001b[0mpre_doc\u001b[0m \u001b[0;32mis\u001b[0m \u001b[0;32mNone\u001b[0m\u001b[0;34m:\u001b[0m\u001b[0;34m\u001b[0m\u001b[0m\n",
      "\u001b[0;32m/usr/local/lib/python3.5/site-packages/matplotlib/axes/_axes.py\u001b[0m in \u001b[0;36mscatter\u001b[0;34m(self, x, y, s, c, marker, cmap, norm, vmin, vmax, alpha, linewidths, verts, edgecolors, **kwargs)\u001b[0m\n\u001b[1;32m   3838\u001b[0m         \u001b[0my\u001b[0m \u001b[0;34m=\u001b[0m \u001b[0mnp\u001b[0m\u001b[0;34m.\u001b[0m\u001b[0mma\u001b[0m\u001b[0;34m.\u001b[0m\u001b[0mravel\u001b[0m\u001b[0;34m(\u001b[0m\u001b[0my\u001b[0m\u001b[0;34m)\u001b[0m\u001b[0;34m\u001b[0m\u001b[0m\n\u001b[1;32m   3839\u001b[0m         \u001b[0;32mif\u001b[0m \u001b[0mx\u001b[0m\u001b[0;34m.\u001b[0m\u001b[0msize\u001b[0m \u001b[0;34m!=\u001b[0m \u001b[0my\u001b[0m\u001b[0;34m.\u001b[0m\u001b[0msize\u001b[0m\u001b[0;34m:\u001b[0m\u001b[0;34m\u001b[0m\u001b[0m\n\u001b[0;32m-> 3840\u001b[0;31m             \u001b[0;32mraise\u001b[0m \u001b[0mValueError\u001b[0m\u001b[0;34m(\u001b[0m\u001b[0;34m\"x and y must be the same size\"\u001b[0m\u001b[0;34m)\u001b[0m\u001b[0;34m\u001b[0m\u001b[0m\n\u001b[0m\u001b[1;32m   3841\u001b[0m \u001b[0;34m\u001b[0m\u001b[0m\n\u001b[1;32m   3842\u001b[0m         \u001b[0ms\u001b[0m \u001b[0;34m=\u001b[0m \u001b[0mnp\u001b[0m\u001b[0;34m.\u001b[0m\u001b[0mma\u001b[0m\u001b[0;34m.\u001b[0m\u001b[0mravel\u001b[0m\u001b[0;34m(\u001b[0m\u001b[0ms\u001b[0m\u001b[0;34m)\u001b[0m  \u001b[0;31m# This doesn't have to match x, y in size.\u001b[0m\u001b[0;34m\u001b[0m\u001b[0m\n",
      "\u001b[0;31mValueError\u001b[0m: x and y must be the same size"
     ]
    },
    {
     "data": {
      "image/png": "[encoded data removed]",
      "text/plain": [
       "<matplotlib.figure.Figure at 0x10e463128>"
      ]
     },
     "metadata": {},
     "output_type": "display_data"
    }
   ],
   "source": [
    "x1 = [range(len(many_differences_list))]\n",
    "y1 = many_differences_list\n",
    "plt.scatter(range(len(x1)), y1)\n",
    "plt.xticks(x1)\n",
    "plt.xlabel(\"Difference Heads minus Tails (logarithmic)\")\n",
    "plt.ylabel(\"Flip Sequence 2^n\")\n",
    "plt.title(\"Scatter Graph Difference Heads minus Tails'\")\n",
    "plt.xscale('log')\n",
    "plt.show()"
   ]
  },
  {
   "cell_type": "markdown",
   "metadata": {},
   "source": [
    "I don't understand why the above does not work. How can x1 and y1 not be the same length when x1 is a list of the range of y1? Aaaaaaaaand that is where I'm stuck."
   ]
  },
  {
   "cell_type": "code",
   "execution_count": null,
   "metadata": {
    "collapsed": true
   },
   "outputs": [],
   "source": []
  }
 ],
 "metadata": {
  "kernelspec": {
   "display_name": "Python 3",
   "language": "python",
   "name": "python3"
  },
  "language_info": {
   "codemirror_mode": {
    "name": "ipython",
    "version": 3
   },
   "file_extension": ".py",
   "mimetype": "text/x-python",
   "name": "python",
   "nbconvert_exporter": "python",
   "pygments_lexer": "ipython3",
   "version": "3.5.1"
  }
 },
 "nbformat": 4,
 "nbformat_minor": 0
}
